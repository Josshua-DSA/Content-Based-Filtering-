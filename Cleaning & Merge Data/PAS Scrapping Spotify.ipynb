{
 "cells": [
  {
   "cell_type": "code",
   "execution_count": 1,
   "id": "fdb3bf3c",
   "metadata": {},
   "outputs": [
    {
     "name": "stdout",
     "output_type": "stream",
     "text": [
      "d:\\PENS-EEPIS\\SDT A Semester 2 2025\\Pemrosesan Data\\Folder untuk PAS\n"
     ]
    }
   ],
   "source": [
    "import pandas as pd\n",
    "import os\n",
    "getwd = os.getcwd()\n",
    "print(getwd)\n"
   ]
  },
  {
   "cell_type": "code",
   "execution_count": 2,
   "id": "04257140",
   "metadata": {},
   "outputs": [],
   "source": [
    "data1 = pd.read_excel('indie_top.xlsx')\n",
    "data2 = pd.read_excel('pop_list.xlsx')\n",
    "data3 = pd.read_excel('rock_list.xlsx')\n",
    "data4 = pd.read_excel('reggae_top.xlsx')"
   ]
  },
  {
   "cell_type": "code",
   "execution_count": 3,
   "id": "056b8a36",
   "metadata": {},
   "outputs": [
    {
     "data": {
      "text/html": [
       "<div>\n",
       "<style scoped>\n",
       "    .dataframe tbody tr th:only-of-type {\n",
       "        vertical-align: middle;\n",
       "    }\n",
       "\n",
       "    .dataframe tbody tr th {\n",
       "        vertical-align: top;\n",
       "    }\n",
       "\n",
       "    .dataframe thead th {\n",
       "        text-align: right;\n",
       "    }\n",
       "</style>\n",
       "<table border=\"1\" class=\"dataframe\">\n",
       "  <thead>\n",
       "    <tr style=\"text-align: right;\">\n",
       "      <th></th>\n",
       "      <th>web-scraper-order</th>\n",
       "      <th>web-scraper-start-url</th>\n",
       "      <th>song</th>\n",
       "      <th>song-href</th>\n",
       "      <th>artis</th>\n",
       "      <th>album</th>\n",
       "      <th>viewed</th>\n",
       "      <th>tahun_rilis</th>\n",
       "      <th>genre</th>\n",
       "    </tr>\n",
       "  </thead>\n",
       "  <tbody>\n",
       "    <tr>\n",
       "      <th>0</th>\n",
       "      <td>1748505181-1</td>\n",
       "      <td>https://open.spotify.com/playlist/37i9dQZF1DXd...</td>\n",
       "      <td>Semua Aku Dirayakan</td>\n",
       "      <td>https://open.spotify.com/intl-id/track/2x3vwXW...</td>\n",
       "      <td>Nadin Amizah</td>\n",
       "      <td>Semua Aku Dirayakan</td>\n",
       "      <td>190.277.503</td>\n",
       "      <td>Nadin Amizah•Semua Aku Dirayakan•2023•5:10•190...</td>\n",
       "      <td>indie</td>\n",
       "    </tr>\n",
       "    <tr>\n",
       "      <th>1</th>\n",
       "      <td>1748505212-2</td>\n",
       "      <td>https://open.spotify.com/playlist/37i9dQZF1DXd...</td>\n",
       "      <td>Hujan Mata Pisau</td>\n",
       "      <td>https://open.spotify.com/intl-id/track/7Faxule...</td>\n",
       "      <td>Fstvlst</td>\n",
       "      <td>Hits Kitsch</td>\n",
       "      <td>3.523.565</td>\n",
       "      <td>Fstvlst•Hits Kitsch•2014•4:34•3.523.565</td>\n",
       "      <td>indie</td>\n",
       "    </tr>\n",
       "    <tr>\n",
       "      <th>2</th>\n",
       "      <td>1748505242-3</td>\n",
       "      <td>https://open.spotify.com/playlist/37i9dQZF1DXd...</td>\n",
       "      <td>the more i try to trace you forthwith, the les...</td>\n",
       "      <td>https://open.spotify.com/intl-id/track/6J1VgkP...</td>\n",
       "      <td>eleventwelfth</td>\n",
       "      <td>SIMILAR</td>\n",
       "      <td>4.173.966</td>\n",
       "      <td>eleventwelfth•SIMILAR•2023•3:50•4.173.966</td>\n",
       "      <td>indie</td>\n",
       "    </tr>\n",
       "    <tr>\n",
       "      <th>3</th>\n",
       "      <td>1748505273-4</td>\n",
       "      <td>https://open.spotify.com/playlist/37i9dQZF1DXd...</td>\n",
       "      <td>Rumah Ke Rumah</td>\n",
       "      <td>https://open.spotify.com/intl-id/track/2wAiFWj...</td>\n",
       "      <td>Hindia</td>\n",
       "      <td>Menari Dengan Bayangan</td>\n",
       "      <td>469.951.327</td>\n",
       "      <td>Hindia•Menari Dengan Bayangan•2019•4:37•469.95...</td>\n",
       "      <td>indie</td>\n",
       "    </tr>\n",
       "    <tr>\n",
       "      <th>4</th>\n",
       "      <td>1748505303-5</td>\n",
       "      <td>https://open.spotify.com/playlist/37i9dQZF1DXd...</td>\n",
       "      <td>Asmalibrasi</td>\n",
       "      <td>https://open.spotify.com/intl-id/track/3TFdXrY...</td>\n",
       "      <td>Soegi Bornean</td>\n",
       "      <td>Asmalibrasi</td>\n",
       "      <td>229.593.278</td>\n",
       "      <td>Soegi Bornean•Asmalibrasi•2019•4:14•229.593.278</td>\n",
       "      <td>indie</td>\n",
       "    </tr>\n",
       "  </tbody>\n",
       "</table>\n",
       "</div>"
      ],
      "text/plain": [
       "  web-scraper-order                              web-scraper-start-url  \\\n",
       "0      1748505181-1  https://open.spotify.com/playlist/37i9dQZF1DXd...   \n",
       "1      1748505212-2  https://open.spotify.com/playlist/37i9dQZF1DXd...   \n",
       "2      1748505242-3  https://open.spotify.com/playlist/37i9dQZF1DXd...   \n",
       "3      1748505273-4  https://open.spotify.com/playlist/37i9dQZF1DXd...   \n",
       "4      1748505303-5  https://open.spotify.com/playlist/37i9dQZF1DXd...   \n",
       "\n",
       "                                                song  \\\n",
       "0                                Semua Aku Dirayakan   \n",
       "1                                   Hujan Mata Pisau   \n",
       "2  the more i try to trace you forthwith, the les...   \n",
       "3                                     Rumah Ke Rumah   \n",
       "4                                        Asmalibrasi   \n",
       "\n",
       "                                           song-href          artis  \\\n",
       "0  https://open.spotify.com/intl-id/track/2x3vwXW...   Nadin Amizah   \n",
       "1  https://open.spotify.com/intl-id/track/7Faxule...        Fstvlst   \n",
       "2  https://open.spotify.com/intl-id/track/6J1VgkP...  eleventwelfth   \n",
       "3  https://open.spotify.com/intl-id/track/2wAiFWj...         Hindia   \n",
       "4  https://open.spotify.com/intl-id/track/3TFdXrY...  Soegi Bornean   \n",
       "\n",
       "                    album       viewed  \\\n",
       "0     Semua Aku Dirayakan  190.277.503   \n",
       "1             Hits Kitsch    3.523.565   \n",
       "2                 SIMILAR    4.173.966   \n",
       "3  Menari Dengan Bayangan  469.951.327   \n",
       "4             Asmalibrasi  229.593.278   \n",
       "\n",
       "                                         tahun_rilis  genre  \n",
       "0  Nadin Amizah•Semua Aku Dirayakan•2023•5:10•190...  indie  \n",
       "1            Fstvlst•Hits Kitsch•2014•4:34•3.523.565  indie  \n",
       "2          eleventwelfth•SIMILAR•2023•3:50•4.173.966  indie  \n",
       "3  Hindia•Menari Dengan Bayangan•2019•4:37•469.95...  indie  \n",
       "4    Soegi Bornean•Asmalibrasi•2019•4:14•229.593.278  indie  "
      ]
     },
     "execution_count": 3,
     "metadata": {},
     "output_type": "execute_result"
    }
   ],
   "source": [
    "data = pd.concat([data1, data2, data3, data4], ignore_index=True)\n",
    "data.head()"
   ]
  },
  {
   "cell_type": "code",
   "execution_count": 4,
   "id": "319da6aa",
   "metadata": {},
   "outputs": [
    {
     "data": {
      "text/plain": [
       "Index(['web-scraper-order', 'web-scraper-start-url', 'song', 'song-href',\n",
       "       'artis', 'album', 'viewed', 'tahun_rilis', 'genre'],\n",
       "      dtype='object')"
      ]
     },
     "execution_count": 4,
     "metadata": {},
     "output_type": "execute_result"
    }
   ],
   "source": [
    "data.columns"
   ]
  },
  {
   "cell_type": "code",
   "execution_count": 5,
   "id": "45054399",
   "metadata": {},
   "outputs": [
    {
     "data": {
      "text/html": [
       "<div>\n",
       "<style scoped>\n",
       "    .dataframe tbody tr th:only-of-type {\n",
       "        vertical-align: middle;\n",
       "    }\n",
       "\n",
       "    .dataframe tbody tr th {\n",
       "        vertical-align: top;\n",
       "    }\n",
       "\n",
       "    .dataframe thead th {\n",
       "        text-align: right;\n",
       "    }\n",
       "</style>\n",
       "<table border=\"1\" class=\"dataframe\">\n",
       "  <thead>\n",
       "    <tr style=\"text-align: right;\">\n",
       "      <th></th>\n",
       "      <th>song</th>\n",
       "      <th>artis</th>\n",
       "      <th>album</th>\n",
       "      <th>viewed</th>\n",
       "      <th>tahun_rilis</th>\n",
       "      <th>genre</th>\n",
       "    </tr>\n",
       "  </thead>\n",
       "  <tbody>\n",
       "    <tr>\n",
       "      <th>0</th>\n",
       "      <td>Semua Aku Dirayakan</td>\n",
       "      <td>Nadin Amizah</td>\n",
       "      <td>Semua Aku Dirayakan</td>\n",
       "      <td>190.277.503</td>\n",
       "      <td>Nadin Amizah•Semua Aku Dirayakan•2023•5:10•190...</td>\n",
       "      <td>indie</td>\n",
       "    </tr>\n",
       "    <tr>\n",
       "      <th>1</th>\n",
       "      <td>Hujan Mata Pisau</td>\n",
       "      <td>Fstvlst</td>\n",
       "      <td>Hits Kitsch</td>\n",
       "      <td>3.523.565</td>\n",
       "      <td>Fstvlst•Hits Kitsch•2014•4:34•3.523.565</td>\n",
       "      <td>indie</td>\n",
       "    </tr>\n",
       "    <tr>\n",
       "      <th>2</th>\n",
       "      <td>the more i try to trace you forthwith, the les...</td>\n",
       "      <td>eleventwelfth</td>\n",
       "      <td>SIMILAR</td>\n",
       "      <td>4.173.966</td>\n",
       "      <td>eleventwelfth•SIMILAR•2023•3:50•4.173.966</td>\n",
       "      <td>indie</td>\n",
       "    </tr>\n",
       "    <tr>\n",
       "      <th>3</th>\n",
       "      <td>Rumah Ke Rumah</td>\n",
       "      <td>Hindia</td>\n",
       "      <td>Menari Dengan Bayangan</td>\n",
       "      <td>469.951.327</td>\n",
       "      <td>Hindia•Menari Dengan Bayangan•2019•4:37•469.95...</td>\n",
       "      <td>indie</td>\n",
       "    </tr>\n",
       "    <tr>\n",
       "      <th>4</th>\n",
       "      <td>Asmalibrasi</td>\n",
       "      <td>Soegi Bornean</td>\n",
       "      <td>Asmalibrasi</td>\n",
       "      <td>229.593.278</td>\n",
       "      <td>Soegi Bornean•Asmalibrasi•2019•4:14•229.593.278</td>\n",
       "      <td>indie</td>\n",
       "    </tr>\n",
       "  </tbody>\n",
       "</table>\n",
       "</div>"
      ],
      "text/plain": [
       "                                                song          artis  \\\n",
       "0                                Semua Aku Dirayakan   Nadin Amizah   \n",
       "1                                   Hujan Mata Pisau        Fstvlst   \n",
       "2  the more i try to trace you forthwith, the les...  eleventwelfth   \n",
       "3                                     Rumah Ke Rumah         Hindia   \n",
       "4                                        Asmalibrasi  Soegi Bornean   \n",
       "\n",
       "                    album       viewed  \\\n",
       "0     Semua Aku Dirayakan  190.277.503   \n",
       "1             Hits Kitsch    3.523.565   \n",
       "2                 SIMILAR    4.173.966   \n",
       "3  Menari Dengan Bayangan  469.951.327   \n",
       "4             Asmalibrasi  229.593.278   \n",
       "\n",
       "                                         tahun_rilis  genre  \n",
       "0  Nadin Amizah•Semua Aku Dirayakan•2023•5:10•190...  indie  \n",
       "1            Fstvlst•Hits Kitsch•2014•4:34•3.523.565  indie  \n",
       "2          eleventwelfth•SIMILAR•2023•3:50•4.173.966  indie  \n",
       "3  Hindia•Menari Dengan Bayangan•2019•4:37•469.95...  indie  \n",
       "4    Soegi Bornean•Asmalibrasi•2019•4:14•229.593.278  indie  "
      ]
     },
     "execution_count": 5,
     "metadata": {},
     "output_type": "execute_result"
    }
   ],
   "source": [
    "data = data.drop(['web-scraper-order','web-scraper-start-url','song-href'], axis=1)\n",
    "data.head()"
   ]
  },
  {
   "cell_type": "code",
   "execution_count": 6,
   "id": "f587f20e",
   "metadata": {},
   "outputs": [
    {
     "data": {
      "text/html": [
       "<div>\n",
       "<style scoped>\n",
       "    .dataframe tbody tr th:only-of-type {\n",
       "        vertical-align: middle;\n",
       "    }\n",
       "\n",
       "    .dataframe tbody tr th {\n",
       "        vertical-align: top;\n",
       "    }\n",
       "\n",
       "    .dataframe thead th {\n",
       "        text-align: right;\n",
       "    }\n",
       "</style>\n",
       "<table border=\"1\" class=\"dataframe\">\n",
       "  <thead>\n",
       "    <tr style=\"text-align: right;\">\n",
       "      <th></th>\n",
       "      <th>song</th>\n",
       "      <th>artis</th>\n",
       "      <th>album</th>\n",
       "      <th>viewed</th>\n",
       "      <th>tahun_rilis</th>\n",
       "      <th>genre</th>\n",
       "    </tr>\n",
       "  </thead>\n",
       "  <tbody>\n",
       "    <tr>\n",
       "      <th>0</th>\n",
       "      <td>Semua Aku Dirayakan</td>\n",
       "      <td>Nadin Amizah</td>\n",
       "      <td>Semua Aku Dirayakan</td>\n",
       "      <td>190.277.503</td>\n",
       "      <td>2023</td>\n",
       "      <td>indie</td>\n",
       "    </tr>\n",
       "    <tr>\n",
       "      <th>1</th>\n",
       "      <td>Hujan Mata Pisau</td>\n",
       "      <td>Fstvlst</td>\n",
       "      <td>Hits Kitsch</td>\n",
       "      <td>3.523.565</td>\n",
       "      <td>2014</td>\n",
       "      <td>indie</td>\n",
       "    </tr>\n",
       "    <tr>\n",
       "      <th>2</th>\n",
       "      <td>the more i try to trace you forthwith, the les...</td>\n",
       "      <td>eleventwelfth</td>\n",
       "      <td>SIMILAR</td>\n",
       "      <td>4.173.966</td>\n",
       "      <td>2023</td>\n",
       "      <td>indie</td>\n",
       "    </tr>\n",
       "    <tr>\n",
       "      <th>3</th>\n",
       "      <td>Rumah Ke Rumah</td>\n",
       "      <td>Hindia</td>\n",
       "      <td>Menari Dengan Bayangan</td>\n",
       "      <td>469.951.327</td>\n",
       "      <td>2019</td>\n",
       "      <td>indie</td>\n",
       "    </tr>\n",
       "    <tr>\n",
       "      <th>4</th>\n",
       "      <td>Asmalibrasi</td>\n",
       "      <td>Soegi Bornean</td>\n",
       "      <td>Asmalibrasi</td>\n",
       "      <td>229.593.278</td>\n",
       "      <td>2019</td>\n",
       "      <td>indie</td>\n",
       "    </tr>\n",
       "  </tbody>\n",
       "</table>\n",
       "</div>"
      ],
      "text/plain": [
       "                                                song          artis  \\\n",
       "0                                Semua Aku Dirayakan   Nadin Amizah   \n",
       "1                                   Hujan Mata Pisau        Fstvlst   \n",
       "2  the more i try to trace you forthwith, the les...  eleventwelfth   \n",
       "3                                     Rumah Ke Rumah         Hindia   \n",
       "4                                        Asmalibrasi  Soegi Bornean   \n",
       "\n",
       "                    album       viewed tahun_rilis  genre  \n",
       "0     Semua Aku Dirayakan  190.277.503        2023  indie  \n",
       "1             Hits Kitsch    3.523.565        2014  indie  \n",
       "2                 SIMILAR    4.173.966        2023  indie  \n",
       "3  Menari Dengan Bayangan  469.951.327        2019  indie  \n",
       "4             Asmalibrasi  229.593.278        2019  indie  "
      ]
     },
     "execution_count": 6,
     "metadata": {},
     "output_type": "execute_result"
    }
   ],
   "source": [
    "# Ambil tahun 4 digit menggunakan regex\n",
    "data['tahun_rilis'] = data['tahun_rilis'].str.extract(r'(\\b\\d{4}\\b)')\n",
    "data.head()\n"
   ]
  },
  {
   "cell_type": "markdown",
   "id": "b8dc2972",
   "metadata": {},
   "source": [
    "# Cleaning data"
   ]
  },
  {
   "cell_type": "code",
   "execution_count": 7,
   "id": "ba467c9b",
   "metadata": {},
   "outputs": [
    {
     "name": "stdout",
     "output_type": "stream",
     "text": [
      "<class 'pandas.core.frame.DataFrame'>\n",
      "RangeIndex: 161 entries, 0 to 160\n",
      "Data columns (total 6 columns):\n",
      " #   Column       Non-Null Count  Dtype \n",
      "---  ------       --------------  ----- \n",
      " 0   song         161 non-null    object\n",
      " 1   artis        161 non-null    object\n",
      " 2   album        161 non-null    object\n",
      " 3   viewed       161 non-null    object\n",
      " 4   tahun_rilis  161 non-null    object\n",
      " 5   genre        161 non-null    object\n",
      "dtypes: object(6)\n",
      "memory usage: 7.7+ KB\n"
     ]
    }
   ],
   "source": [
    "data.info()"
   ]
  },
  {
   "cell_type": "code",
   "execution_count": 8,
   "id": "36e4509e",
   "metadata": {},
   "outputs": [],
   "source": [
    "data['tahun_rilis'] = data['tahun_rilis'].astype(int)\n",
    "data['viewed'] = data['viewed'].str.replace('.', '', regex=False).astype(int)\n",
    "data['song'] = data['song'].astype('string')\n",
    "data['artis'] = data['artis'].astype('string')\n",
    "data['genre'] = data['genre'].astype('string')\n",
    "data['album'] = data['album'].astype('string')\n"
   ]
  },
  {
   "cell_type": "code",
   "execution_count": 9,
   "id": "49211050",
   "metadata": {},
   "outputs": [
    {
     "name": "stdout",
     "output_type": "stream",
     "text": [
      "<class 'pandas.core.frame.DataFrame'>\n",
      "RangeIndex: 161 entries, 0 to 160\n",
      "Data columns (total 6 columns):\n",
      " #   Column       Non-Null Count  Dtype \n",
      "---  ------       --------------  ----- \n",
      " 0   song         161 non-null    string\n",
      " 1   artis        161 non-null    string\n",
      " 2   album        161 non-null    string\n",
      " 3   viewed       161 non-null    int32 \n",
      " 4   tahun_rilis  161 non-null    int32 \n",
      " 5   genre        161 non-null    string\n",
      "dtypes: int32(2), string(4)\n",
      "memory usage: 6.4 KB\n"
     ]
    }
   ],
   "source": [
    "data.info()"
   ]
  },
  {
   "cell_type": "code",
   "execution_count": 10,
   "id": "b0eb8e00",
   "metadata": {},
   "outputs": [
    {
     "data": {
      "text/plain": [
       "0"
      ]
     },
     "execution_count": 10,
     "metadata": {},
     "output_type": "execute_result"
    }
   ],
   "source": [
    "data.duplicated().sum()\n"
   ]
  },
  {
   "cell_type": "code",
   "execution_count": 11,
   "id": "d51480d4",
   "metadata": {},
   "outputs": [
    {
     "data": {
      "text/plain": [
       "song           0\n",
       "artis          0\n",
       "album          0\n",
       "viewed         0\n",
       "tahun_rilis    0\n",
       "genre          0\n",
       "dtype: int64"
      ]
     },
     "execution_count": 11,
     "metadata": {},
     "output_type": "execute_result"
    }
   ],
   "source": [
    "data.isnull().sum()"
   ]
  },
  {
   "cell_type": "code",
   "execution_count": 12,
   "id": "4569e732",
   "metadata": {},
   "outputs": [],
   "source": [
    "data.to_csv('top_hits.csv', index=False)"
   ]
  }
 ],
 "metadata": {
  "kernelspec": {
   "display_name": "Python 3",
   "language": "python",
   "name": "python3"
  },
  "language_info": {
   "codemirror_mode": {
    "name": "ipython",
    "version": 3
   },
   "file_extension": ".py",
   "mimetype": "text/x-python",
   "name": "python",
   "nbconvert_exporter": "python",
   "pygments_lexer": "ipython3",
   "version": "3.12.5"
  }
 },
 "nbformat": 4,
 "nbformat_minor": 5
}
