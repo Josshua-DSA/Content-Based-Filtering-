{
 "cells": [
  {
   "cell_type": "code",
   "execution_count": 2,
   "id": "73823ed8",
   "metadata": {},
   "outputs": [],
   "source": [
    "import pandas as pd"
   ]
  },
  {
   "cell_type": "markdown",
   "id": "0f2ccb80",
   "metadata": {},
   "source": [
    "Membuat EDA untuk Dataset nya terlebih dahulu"
   ]
  },
  {
   "cell_type": "code",
   "execution_count": 3,
   "id": "358bb64c",
   "metadata": {},
   "outputs": [
    {
     "data": {
      "text/html": [
       "<div>\n",
       "<style scoped>\n",
       "    .dataframe tbody tr th:only-of-type {\n",
       "        vertical-align: middle;\n",
       "    }\n",
       "\n",
       "    .dataframe tbody tr th {\n",
       "        vertical-align: top;\n",
       "    }\n",
       "\n",
       "    .dataframe thead th {\n",
       "        text-align: right;\n",
       "    }\n",
       "</style>\n",
       "<table border=\"1\" class=\"dataframe\">\n",
       "  <thead>\n",
       "    <tr style=\"text-align: right;\">\n",
       "      <th></th>\n",
       "      <th>song</th>\n",
       "      <th>artis</th>\n",
       "      <th>album</th>\n",
       "      <th>viewed</th>\n",
       "      <th>tahun_rilis</th>\n",
       "      <th>genre</th>\n",
       "    </tr>\n",
       "  </thead>\n",
       "  <tbody>\n",
       "    <tr>\n",
       "      <th>0</th>\n",
       "      <td>Semua Aku Dirayakan</td>\n",
       "      <td>Nadin Amizah</td>\n",
       "      <td>Semua Aku Dirayakan</td>\n",
       "      <td>190277503</td>\n",
       "      <td>2023</td>\n",
       "      <td>indie</td>\n",
       "    </tr>\n",
       "    <tr>\n",
       "      <th>1</th>\n",
       "      <td>Hujan Mata Pisau</td>\n",
       "      <td>Fstvlst</td>\n",
       "      <td>Hits Kitsch</td>\n",
       "      <td>3523565</td>\n",
       "      <td>2014</td>\n",
       "      <td>indie</td>\n",
       "    </tr>\n",
       "    <tr>\n",
       "      <th>2</th>\n",
       "      <td>the more i try to trace you forthwith, the les...</td>\n",
       "      <td>eleventwelfth</td>\n",
       "      <td>SIMILAR</td>\n",
       "      <td>4173966</td>\n",
       "      <td>2023</td>\n",
       "      <td>indie</td>\n",
       "    </tr>\n",
       "    <tr>\n",
       "      <th>3</th>\n",
       "      <td>Rumah Ke Rumah</td>\n",
       "      <td>Hindia</td>\n",
       "      <td>Menari Dengan Bayangan</td>\n",
       "      <td>469951327</td>\n",
       "      <td>2019</td>\n",
       "      <td>indie</td>\n",
       "    </tr>\n",
       "    <tr>\n",
       "      <th>4</th>\n",
       "      <td>Asmalibrasi</td>\n",
       "      <td>Soegi Bornean</td>\n",
       "      <td>Asmalibrasi</td>\n",
       "      <td>229593278</td>\n",
       "      <td>2019</td>\n",
       "      <td>indie</td>\n",
       "    </tr>\n",
       "    <tr>\n",
       "      <th>...</th>\n",
       "      <td>...</td>\n",
       "      <td>...</td>\n",
       "      <td>...</td>\n",
       "      <td>...</td>\n",
       "      <td>...</td>\n",
       "      <td>...</td>\n",
       "    </tr>\n",
       "    <tr>\n",
       "      <th>156</th>\n",
       "      <td>Trully Kawan</td>\n",
       "      <td>Steven &amp; Coconuttreez</td>\n",
       "      <td>Good Atmosphere</td>\n",
       "      <td>5546961</td>\n",
       "      <td>2008</td>\n",
       "      <td>reggae</td>\n",
       "    </tr>\n",
       "    <tr>\n",
       "      <th>157</th>\n",
       "      <td>Selamat Jalan Kawan</td>\n",
       "      <td>Steven &amp; Coconuttreez</td>\n",
       "      <td>Good Atmosphere</td>\n",
       "      <td>2505444</td>\n",
       "      <td>2008</td>\n",
       "      <td>reggae</td>\n",
       "    </tr>\n",
       "    <tr>\n",
       "      <th>158</th>\n",
       "      <td>Hingga Ku Jenuh</td>\n",
       "      <td>Steven &amp; Coconuttreez</td>\n",
       "      <td>Good Atmosphere</td>\n",
       "      <td>4734568</td>\n",
       "      <td>2008</td>\n",
       "      <td>reggae</td>\n",
       "    </tr>\n",
       "    <tr>\n",
       "      <th>159</th>\n",
       "      <td>PHP</td>\n",
       "      <td>Souljah</td>\n",
       "      <td>This Is Souljah</td>\n",
       "      <td>4602730</td>\n",
       "      <td>2014</td>\n",
       "      <td>reggae</td>\n",
       "    </tr>\n",
       "    <tr>\n",
       "      <th>160</th>\n",
       "      <td>Mars Jangkrik</td>\n",
       "      <td>Souljah</td>\n",
       "      <td>Mestakung</td>\n",
       "      <td>5122931</td>\n",
       "      <td>2009</td>\n",
       "      <td>reggae</td>\n",
       "    </tr>\n",
       "  </tbody>\n",
       "</table>\n",
       "<p>161 rows × 6 columns</p>\n",
       "</div>"
      ],
      "text/plain": [
       "                                                  song                  artis  \\\n",
       "0                                  Semua Aku Dirayakan           Nadin Amizah   \n",
       "1                                     Hujan Mata Pisau                Fstvlst   \n",
       "2    the more i try to trace you forthwith, the les...          eleventwelfth   \n",
       "3                                       Rumah Ke Rumah                 Hindia   \n",
       "4                                          Asmalibrasi          Soegi Bornean   \n",
       "..                                                 ...                    ...   \n",
       "156                                       Trully Kawan  Steven & Coconuttreez   \n",
       "157                                Selamat Jalan Kawan  Steven & Coconuttreez   \n",
       "158                                    Hingga Ku Jenuh  Steven & Coconuttreez   \n",
       "159                                                PHP                Souljah   \n",
       "160                                      Mars Jangkrik                Souljah   \n",
       "\n",
       "                      album     viewed  tahun_rilis   genre  \n",
       "0       Semua Aku Dirayakan  190277503         2023   indie  \n",
       "1               Hits Kitsch    3523565         2014   indie  \n",
       "2                   SIMILAR    4173966         2023   indie  \n",
       "3    Menari Dengan Bayangan  469951327         2019   indie  \n",
       "4               Asmalibrasi  229593278         2019   indie  \n",
       "..                      ...        ...          ...     ...  \n",
       "156         Good Atmosphere    5546961         2008  reggae  \n",
       "157         Good Atmosphere    2505444         2008  reggae  \n",
       "158         Good Atmosphere    4734568         2008  reggae  \n",
       "159         This Is Souljah    4602730         2014  reggae  \n",
       "160               Mestakung    5122931         2009  reggae  \n",
       "\n",
       "[161 rows x 6 columns]"
      ]
     },
     "execution_count": 3,
     "metadata": {},
     "output_type": "execute_result"
    }
   ],
   "source": [
    "musik = pd.read_csv('D:/PENS-EEPIS/SDT A Semester 2 2025/Pemrosesan Data/CBF/Cleaning & Merge Data/top_hits.csv')\n",
    "musik"
   ]
  },
  {
   "cell_type": "code",
   "execution_count": 4,
   "id": "6c17a190",
   "metadata": {},
   "outputs": [
    {
     "name": "stdout",
     "output_type": "stream",
     "text": [
      "<class 'pandas.core.frame.DataFrame'>\n",
      "RangeIndex: 161 entries, 0 to 160\n",
      "Data columns (total 6 columns):\n",
      " #   Column       Non-Null Count  Dtype \n",
      "---  ------       --------------  ----- \n",
      " 0   song         161 non-null    object\n",
      " 1   artis        161 non-null    object\n",
      " 2   album        161 non-null    object\n",
      " 3   viewed       161 non-null    int64 \n",
      " 4   tahun_rilis  161 non-null    int64 \n",
      " 5   genre        161 non-null    object\n",
      "dtypes: int64(2), object(4)\n",
      "memory usage: 7.7+ KB\n"
     ]
    }
   ],
   "source": [
    "musik.info()"
   ]
  },
  {
   "cell_type": "markdown",
   "id": "a70a79c6",
   "metadata": {},
   "source": [
    "# 1. LOAD DATA"
   ]
  },
  {
   "cell_type": "code",
   "execution_count": 5,
   "id": "d82046df",
   "metadata": {},
   "outputs": [
    {
     "name": "stdout",
     "output_type": "stream",
     "text": [
      "Data loaded: 161 songs\n",
      "\n",
      "Dataset Overview:\n",
      "                                                song          artis  \\\n",
      "0                                Semua Aku Dirayakan   Nadin Amizah   \n",
      "1                                   Hujan Mata Pisau        Fstvlst   \n",
      "2  the more i try to trace you forthwith, the les...  eleventwelfth   \n",
      "3                                     Rumah Ke Rumah         Hindia   \n",
      "4                                        Asmalibrasi  Soegi Bornean   \n",
      "\n",
      "                    album     viewed  tahun_rilis  genre  \n",
      "0     Semua Aku Dirayakan  190277503         2023  indie  \n",
      "1             Hits Kitsch    3523565         2014  indie  \n",
      "2                 SIMILAR    4173966         2023  indie  \n",
      "3  Menari Dengan Bayangan  469951327         2019  indie  \n",
      "4             Asmalibrasi  229593278         2019  indie  \n",
      "\n",
      "Dataset Shape: (161, 6)\n"
     ]
    }
   ],
   "source": [
    "import numpy as np\n",
    "from sklearn.feature_extraction.text import TfidfVectorizer\n",
    "from sklearn.metrics.pairwise import cosine_similarity\n",
    "from sklearn.preprocessing import StandardScaler\n",
    "\n",
    "# Buat DataFrame\n",
    "df = pd.read_csv(\"D:/PENS-EEPIS/SDT A Semester 2 2025/Pemrosesan Data/CBF/Cleaning & Merge Data/top_hits.csv\")\n",
    "print(f\"Data loaded: {len(df)} songs\")\n",
    "print(\"\\nDataset Overview:\")\n",
    "print(df.head())\n",
    "print(f\"\\nDataset Shape: {df.shape}\")\n"
   ]
  },
  {
   "cell_type": "markdown",
   "id": "077e6ef1",
   "metadata": {},
   "source": [
    "# 2. EXPLORASI DATA SEDERHANA"
   ]
  },
  {
   "cell_type": "code",
   "execution_count": 6,
   "id": "3e716c02",
   "metadata": {},
   "outputs": [
    {
     "name": "stdout",
     "output_type": "stream",
     "text": [
      "\n",
      "Quick Data Exploration:\n",
      "Genres: ['indie' 'pop' 'rock' 'reggae']\n",
      "Year range: 1993 - 2025\n",
      "Total artists: 71\n"
     ]
    }
   ],
   "source": [
    "print(\"\\nQuick Data Exploration:\")\n",
    "print(f\"Genres: {df['genre'].unique()}\")\n",
    "print(f\"Year range: {df['tahun_rilis'].min()} - {df['tahun_rilis'].max()}\")\n",
    "print(f\"Total artists: {df['artis'].nunique()}\")"
   ]
  },
  {
   "cell_type": "markdown",
   "id": "a1afb54d",
   "metadata": {},
   "source": [
    "# 3. PREPROCESSING DATA\n"
   ]
  },
  {
   "cell_type": "code",
   "execution_count": 7,
   "id": "3e7e85ad",
   "metadata": {},
   "outputs": [
    {
     "name": "stdout",
     "output_type": "stream",
     "text": [
      "\n",
      "Preprocessing data...\n"
     ]
    }
   ],
   "source": [
    "print(\"\\nPreprocessing data...\")\n",
    "\n",
    "# Gabungkan fitur untuk similarity (genre + artis)\n",
    "df['combined_features'] = df['genre'] + ' ' + df['artis'].str.lower()\n",
    "\n",
    "# Normalisasi fitur numerik sederhana\n",
    "scaler = StandardScaler()\n",
    "df['tahun_norm'] = scaler.fit_transform(df[['tahun_rilis']])\n",
    "df['viewed_norm'] = scaler.fit_transform(df[['viewed']])"
   ]
  },
  {
   "cell_type": "markdown",
   "id": "bf749aea",
   "metadata": {},
   "source": [
    "# 4. BUAT TF-IDF MATRIX\n"
   ]
  },
  {
   "cell_type": "code",
   "execution_count": 8,
   "id": "bff92e67",
   "metadata": {},
   "outputs": [],
   "source": [
    "stopwords_indonesia = [\n",
    "    'yang', 'dan', 'di', 'ke', 'dari', 'adalah', 'untuk', 'dengan',\n",
    "    'pada', 'ini', 'itu', 'atau', 'karena', 'juga', 'oleh', 'sebagai',\n",
    "    'akan', 'tidak', 'sudah', 'masih', 'bagi', 'dalam', 'terhadap', 'lebih', 'agar'\n",
    "    # Tambahkan sendiri sesuai kebutuhan\n",
    "]\n",
    "\n",
    "# Vectorizer untuk combined features\n",
    "tfidf = TfidfVectorizer(stop_words=stopwords_indonesia)\n",
    "tfidf_matrix = tfidf.fit_transform(df['combined_features'])"
   ]
  },
  {
   "cell_type": "markdown",
   "id": "bea830c5",
   "metadata": {},
   "source": [
    "# 5. HITUNG COSINE SIMILARITY\n"
   ]
  },
  {
   "cell_type": "code",
   "execution_count": 9,
   "id": "5a678235",
   "metadata": {},
   "outputs": [
    {
     "name": "stdout",
     "output_type": "stream",
     "text": [
      "Similarity matrix: (161, 161)\n"
     ]
    }
   ],
   "source": [
    "# Hitung cosine similarity\n",
    "cosine_sim = cosine_similarity(tfidf_matrix)\n",
    "\n",
    "print(f\"Similarity matrix: {cosine_sim.shape}\")"
   ]
  },
  {
   "cell_type": "markdown",
   "id": "bb7abf89",
   "metadata": {},
   "source": [
    "# 6. FUNGSI REKOMENDASI SEDERHANA\n"
   ]
  },
  {
   "cell_type": "code",
   "execution_count": 10,
   "id": "1559875a",
   "metadata": {},
   "outputs": [],
   "source": [
    "def recommend_songs(song_title, num_rec=5):\n",
    "    \"\"\"\n",
    "    Fungsi untuk mendapatkan rekomendasi lagu berdasarkan judul\n",
    "    \"\"\"\n",
    "    # Cari index lagu\n",
    "    try:\n",
    "        idx = df[df['song'].str.lower() == song_title.lower()].index[0]\n",
    "        print(f\"Found song: {df.iloc[idx]['song']} by {df.iloc[idx]['artis']}\")\n",
    "    except IndexError:\n",
    "        print(f\"Song '{song_title}' not found!\")\n",
    "        print(\"Available songs:\")\n",
    "        for i, song in enumerate(df['song'][:10]):  # Menampilkan 10 lagu pertama sebagai contoh\n",
    "            print(f\"  - {song}\")\n",
    "        return None\n",
    "    \n",
    "    # Ambil similarity scores\n",
    "    sim_scores = list(enumerate(cosine_sim[idx]))\n",
    "    \n",
    "    # Sort berdasarkan similarity (tinggi ke rendah)\n",
    "    sim_scores = sorted(sim_scores, key=lambda x: x[1], reverse=True)\n",
    "    \n",
    "    # Ambil top N (skip index 0 = lagu itu sendiri)\n",
    "    top_songs = sim_scores[1:num_rec+1]\n",
    "    \n",
    "    # Buat list rekomendasi\n",
    "    recommendations = []\n",
    "    for i, score in top_songs:\n",
    "        rec = {\n",
    "            'song': df.iloc[i]['song'],\n",
    "            'artis': df.iloc[i]['artis'],\n",
    "            'album': df.iloc[i]['album'],\n",
    "            'genre': df.iloc[i]['genre'],\n",
    "            'tahun': df.iloc[i]['tahun_rilis'],\n",
    "            'views': df.iloc[i]['viewed'],\n",
    "            'similarity': score\n",
    "        }\n",
    "        recommendations.append(rec)\n",
    "    \n",
    "    return recommendations"
   ]
  },
  {
   "cell_type": "markdown",
   "id": "ebca216a",
   "metadata": {},
   "source": [
    "# 7. TAMPILKAN REKOMENDASI\n"
   ]
  },
  {
   "cell_type": "code",
   "execution_count": 11,
   "id": "2edb7cba",
   "metadata": {},
   "outputs": [],
   "source": [
    "def show_recommendations(song_title, num_rec=5):\n",
    "    \"\"\"\n",
    "    Tampilkan rekomendasi dengan format rapi\n",
    "    \"\"\"\n",
    "    print(f\"\\nRECOMMENDATIONS FOR: '{song_title}'\")\n",
    "    \n",
    "    recs = recommend_songs(song_title, num_rec)\n",
    "    \n",
    "    if recs:\n",
    "        for i, rec in enumerate(recs, 1):\n",
    "            print(f\"\\n{i}. 🎵 {rec['song']}\")\n",
    "            print(f\"   Artist: {rec['artis']}\")\n",
    "            print(f\"   Album: {rec['album']}\")\n",
    "            print(f\"   Genre: {rec['genre']}\")\n",
    "            print(f\"   Year: {rec['tahun']}\")\n",
    "            print(f\"   Views: {rec['views']:,}\")\n",
    "            print(f\"   Similarity: {rec['similarity']:.3f}\")\n",
    "\n",
    "    else:\n",
    "        print(\"No recommendations generated.\")"
   ]
  },
  {
   "cell_type": "markdown",
   "id": "b6bb11a8",
   "metadata": {},
   "source": [
    "# 8. TESTING SISTEM"
   ]
  },
  {
   "cell_type": "code",
   "execution_count": 12,
   "id": "c4bee480",
   "metadata": {},
   "outputs": [
    {
     "name": "stdout",
     "output_type": "stream",
     "text": [
      "\n",
      "[TEST 1] Indie Song Recommendation:\n",
      "\n",
      "RECOMMENDATIONS FOR: 'Semua Aku Dirayakan'\n",
      "Found song: Semua Aku Dirayakan by Nadin Amizah\n",
      "\n",
      "1. 🎵 Bertaut\n",
      "   Artist: Nadin Amizah\n",
      "   Album: Selamat Ulang Tahun\n",
      "   Genre: indie\n",
      "   Year: 2020\n",
      "   Views: 503,334,418\n",
      "   Similarity: 1.000\n",
      "\n",
      "2. 🎵 Taruh\n",
      "   Artist: Nadin Amizah\n",
      "   Album: Selamat Ulang Tahun\n",
      "   Genre: indie\n",
      "   Year: 2020\n",
      "   Views: 114,823,029\n",
      "   Similarity: 1.000\n",
      "\n",
      "3. 🎵 Rayuan Perempuan Gila\n",
      "   Artist: Nadin Amizah\n",
      "   Album: Rayuan Perempuan Gila\n",
      "   Genre: indie\n",
      "   Year: 2023\n",
      "   Views: 228,372,657\n",
      "   Similarity: 1.000\n",
      "\n",
      "4. 🎵 Rumah Ke Rumah\n",
      "   Artist: Hindia\n",
      "   Album: Menari Dengan Bayangan\n",
      "   Genre: indie\n",
      "   Year: 2019\n",
      "   Views: 469,951,327\n",
      "   Similarity: 0.190\n",
      "\n",
      "5. 🎵 Kita Ke Sana\n",
      "   Artist: Hindia\n",
      "   Album: Lagipula Hidup Akan Berakhir\n",
      "   Genre: indie\n",
      "   Year: 2023\n",
      "   Views: 90,998,925\n",
      "   Similarity: 0.190\n",
      "\n",
      "6. 🎵 Cincin\n",
      "   Artist: Hindia\n",
      "   Album: Lagipula Hidup Akan Berakhir\n",
      "   Genre: indie\n",
      "   Year: 2023\n",
      "   Views: 227,594,270\n",
      "   Similarity: 0.190\n",
      "\n",
      "7. 🎵 everything u are\n",
      "   Artist: Hindia\n",
      "   Album: Doves, '25 on Blank Canvas\n",
      "   Genre: indie\n",
      "   Year: 2025\n",
      "   Views: 30,117,712\n",
      "   Similarity: 0.190\n",
      "\n",
      "8. 🎵 Monolog\n",
      "   Artist: Pamungkas\n",
      "   Album: Walk the Talk\n",
      "   Genre: indie\n",
      "   Year: 2018\n",
      "   Views: 255,263,043\n",
      "   Similarity: 0.173\n",
      "\n",
      "9. 🎵 Nina\n",
      "   Artist: .Feast\n",
      "   Album: Nina\n",
      "   Genre: indie\n",
      "   Year: 2024\n",
      "   Views: 229,629,305\n",
      "   Similarity: 0.165\n",
      "\n",
      "10. 🎵 Mangu\n",
      "   Artist: Fourtwnty\n",
      "   Album: Nalar\n",
      "   Genre: indie\n",
      "   Year: 2023\n",
      "   Views: 147,254,546\n",
      "   Similarity: 0.165\n",
      "\n",
      "[TEST 2] Pop Song Recommendation:\n",
      "\n",
      "RECOMMENDATIONS FOR: 'Rumah Ke Rumah'\n",
      "Found song: Rumah Ke Rumah by Hindia\n",
      "\n",
      "1. 🎵 Kita Ke Sana\n",
      "   Artist: Hindia\n",
      "   Album: Lagipula Hidup Akan Berakhir\n",
      "   Genre: indie\n",
      "   Year: 2023\n",
      "   Views: 90,998,925\n",
      "   Similarity: 1.000\n",
      "\n",
      "2. 🎵 Cincin\n",
      "   Artist: Hindia\n",
      "   Album: Lagipula Hidup Akan Berakhir\n",
      "   Genre: indie\n",
      "   Year: 2023\n",
      "   Views: 227,594,270\n",
      "   Similarity: 1.000\n",
      "\n",
      "3. 🎵 everything u are\n",
      "   Artist: Hindia\n",
      "   Album: Doves, '25 on Blank Canvas\n",
      "   Genre: indie\n",
      "   Year: 2025\n",
      "   Views: 30,117,712\n",
      "   Similarity: 1.000\n",
      "\n",
      "4. 🎵 everything u are\n",
      "   Artist: Hindia\n",
      "   Album: Doves, '25 on Blank Canvas\n",
      "   Genre: pop\n",
      "   Year: 2025\n",
      "   Views: 30,117,712\n",
      "   Similarity: 0.746\n",
      "\n",
      "5. 🎵 Rumah Ke Rumah\n",
      "   Artist: Hindia\n",
      "   Album: Menari Dengan Bayangan\n",
      "   Genre: pop\n",
      "   Year: 2019\n",
      "   Views: 469,951,327\n",
      "   Similarity: 0.746\n"
     ]
    }
   ],
   "source": [
    "# Test 1: Indie song\n",
    "print(\"\\n[TEST 1] Indie Song Recommendation:\")\n",
    "show_recommendations('Semua Aku Dirayakan', 10)\n",
    "\n",
    "# Test 2: Reggae song  \n",
    "print(\"\\n[TEST 2] Pop Song Recommendation:\")\n",
    "show_recommendations('Rumah Ke Rumah', 5)"
   ]
  },
  {
   "cell_type": "markdown",
   "id": "9a94650a",
   "metadata": {},
   "source": [
    "# 9. SIMPLE EVALUATION\n"
   ]
  },
  {
   "cell_type": "code",
   "execution_count": 13,
   "id": "184e8c1b",
   "metadata": {},
   "outputs": [],
   "source": [
    "def evaluate_genre_similarity():\n",
    "    \"\"\"\n",
    "    Evaluasi sederhana: cek apakah rekomendasi punya genre yang sama\n",
    "    \"\"\"\n",
    "    print(\"\\n📈 SIMPLE EVALUATION\")\n",
    "    print(\"=\" * 30)\n",
    "    \n",
    "    test_songs = ['Semua Aku Dirayakan', 'Truly Kawan']\n",
    "    \n",
    "    for song_title in test_songs:\n",
    "        try:\n",
    "            # Get original genre\n",
    "            original_idx = df[df['song'].str.lower() == song_title.lower()].index[0]\n",
    "            original_genre = df.iloc[original_idx]['genre']\n",
    "            \n",
    "            # Get recommendations\n",
    "            recs = recommend_songs(song_title, 3)\n",
    "            \n",
    "            if recs:\n",
    "                same_genre = sum(1 for rec in recs if rec['genre'] == original_genre)\n",
    "                print(f\"🎵 {song_title} ({original_genre}):\")\n",
    "                print(f\"   Same genre recommendations: {same_genre}/3\")\n",
    "                print(f\"   Success rate: {same_genre/3*100:.1f}%\")\n",
    "        except:\n",
    "            continue\n",
    "\n"
   ]
  },
  {
   "cell_type": "code",
   "execution_count": 14,
   "id": "8c47787f",
   "metadata": {},
   "outputs": [
    {
     "name": "stdout",
     "output_type": "stream",
     "text": [
      "\n",
      "📈 SIMPLE EVALUATION\n",
      "==============================\n",
      "Found song: Semua Aku Dirayakan by Nadin Amizah\n",
      "🎵 Semua Aku Dirayakan (indie):\n",
      "   Same genre recommendations: 3/3\n",
      "   Success rate: 100.0%\n",
      "\n",
      "✅ RECOMMENDATION SYSTEM COMPLETED!\n"
     ]
    }
   ],
   "source": [
    "# Run evaluation\n",
    "evaluate_genre_similarity()\n",
    "\n",
    "print(\"\\n✅ RECOMMENDATION SYSTEM COMPLETED!\")"
   ]
  }
 ],
 "metadata": {
  "kernelspec": {
   "display_name": "Python 3",
   "language": "python",
   "name": "python3"
  },
  "language_info": {
   "codemirror_mode": {
    "name": "ipython",
    "version": 3
   },
   "file_extension": ".py",
   "mimetype": "text/x-python",
   "name": "python",
   "nbconvert_exporter": "python",
   "pygments_lexer": "ipython3",
   "version": "3.12.5"
  }
 },
 "nbformat": 4,
 "nbformat_minor": 5
}
